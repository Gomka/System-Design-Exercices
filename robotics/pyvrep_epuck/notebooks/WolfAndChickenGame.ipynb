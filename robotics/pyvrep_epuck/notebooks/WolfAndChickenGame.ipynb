{
 "cells": [
  {
   "cell_type": "markdown",
   "metadata": {},
   "source": [
    "# Wolf and Chickens Game"
   ]
  },
  {
   "cell_type": "markdown",
   "metadata": {},
   "source": [
    "Group formed by Gonzalo Marcos, Ali Ezzeddine and Isabel Alessandrini"
   ]
  },
  {
   "cell_type": "markdown",
   "metadata": {},
   "source": [
    "This exercise aims to simulate the different dynamics involved in the interactions between a wolf, chickens and the food present in their environment. The different epucks of the simulation will represent the animals and each will have a series of behaviours and routines that will determine how and when they look for food, chase and run from eachother, and rest from their routine.\n",
    "\n",
    "First, we will start loading the scene `$NameScene` provided along with this code, and we will start the simulator software."
   ]
  },
  {
   "cell_type": "code",
   "execution_count": 1,
   "metadata": {},
   "outputs": [],
   "source": [
    "from simulator_interface import open_session, close_session\n",
    "simulator, epuck1, epuck2, epuck3 = open_session(n_epucks=3)"
   ]
  },
  {
   "cell_type": "markdown",
   "metadata": {},
   "source": [
    "We will also assign which role each epuck will have in the simulation."
   ]
  },
  {
   "cell_type": "code",
   "execution_count": 2,
   "metadata": {},
   "outputs": [],
   "source": [
    "epuck1.species = \"chicken\"\n",
    "epuck2.species = \"chicken\"\n",
    "epuck3.species = \"wolf\""
   ]
  },
  {
   "cell_type": "markdown",
   "metadata": {},
   "source": [
    "Next we will start defining the different behaviours and routines that the chickens and wolf will have. The first one, obstacle avoidance, will be shared by all as they will want to avoid colliding with the different obstacles present in the environment."
   ]
  },
  {
   "cell_type": "code",
   "execution_count": 3,
   "metadata": {},
   "outputs": [],
   "source": [
    "def obstacle_avoidance(robot):\n",
    "    left, right = robot.prox_activations(tracked_objects=[\"20cm\", \"Tree\"]) # If more obstacles are added, they will have to be identified here.\n",
    " \n",
    "    return 1 - right, 1 - left"
   ]
  },
  {
   "cell_type": "markdown",
   "metadata": {},
   "source": [
    "The chickens want to obtain food from the environment while simultaneously avoid the wolf to not get eaten. We will represent the food with a series of spheres that will appear throughout the environment. In order to generate them, we will run the following code:"
   ]
  },
  {
   "cell_type": "code",
   "execution_count": 4,
   "metadata": {},
   "outputs": [
    {
     "name": "stdout",
     "output_type": "stream",
     "text": [
      "Routine sphere_apparition started\n",
      "Routine eating started\n"
     ]
    }
   ],
   "source": [
    "simulator.start_sphere_apparition(period=15, min_pos=[-1, -1, 1], max_pos=[3, 3, 2]) # The min_pos and max_pos arguments can be modified to restrict where the food will appear"
   ]
  },
  {
   "cell_type": "markdown",
   "metadata": {},
   "source": [
    "Now that we have food, we will define the behaviours that will allow the chickens to interact with it. We will start with the hunger, a routine that will condition if the chicken wants to look for food. When the chicken is full, they are sated and walk slowly. Once they have digested the food, they will become more desperate and will run faster."
   ]
  },
  {
   "cell_type": "code",
   "execution_count": 5,
   "metadata": {},
   "outputs": [],
   "source": [
    "def hunger(robot): \n",
    "    if robot.has_eaten():\n",
    "        robot.hunger_level = 0  # if the chicken has eaten a sphere, it is no longer hungry and moves slower\n",
    "        robot.max_speed = 2\n",
    "    else:\n",
    "        robot.hunger_level += 0.01  # otherwise (nothing eaten), it will get increasingly hungrier\n",
    "    \n",
    "    if robot.hunger_level > 0.7:\n",
    "        robot.max_speed = 4 # When the chicken gets hungry enough, they start running faster\n",
    "\n",
    "    robot.hunger_level = min(1., max(robot.hunger_level, 0.)) # We bound the hunger level between 0 and 1"
   ]
  },
  {
   "cell_type": "markdown",
   "metadata": {},
   "source": [
    "With the previous rutine defined, we can now implement a food chasing behaviour that will be influenced by how hungry the chicken is."
   ]
  },
  {
   "cell_type": "code",
   "execution_count": 6,
   "metadata": {},
   "outputs": [],
   "source": [
    "def food_chasing(robot):\n",
    "    left, right = robot.prox_activations(tracked_objects=[\"Sphere\"])\n",
    "\n",
    "    return right, left, robot.hunger_level"
   ]
  },
  {
   "cell_type": "markdown",
   "metadata": {},
   "source": [
    "The chickens can now avoid obstacles, feel hunger and search for food if they are huhgry enough, but we still have to make them fear the wolf and run away from it, so we will implement the wolf avoidance behaviour."
   ]
  },
  {
   "cell_type": "code",
   "execution_count": 7,
   "metadata": {},
   "outputs": [],
   "source": [
    "def wolf_avoidance(robot):\n",
    "    (left, right), (epuck_left, epuck_right) = robot.prox_activations(tracked_objects=[\"ePuck\"], return_epucks=True)\n",
    "    left_species, right_species = robot.sensed_epuck_attributes(epuck_left, epuck_right, \"species\", default_value =\"none\") # Retrieve the species attributes of the sensed epucks\n",
    "\n",
    "    left_activation = left if left_species == \"wolf\" else 0\n",
    "    right_activation = right if right_species == \"wolf\" else 0  # We avoid the epuck sensed if it's a wolf\n",
    "\n",
    "    return left_activation, right_activation"
   ]
  },
  {
   "cell_type": "markdown",
   "metadata": {},
   "source": [
    "We will add a final behaviour to the chickens to make them smarter. When they are not hungry, they will try to hide in their houses (cups) so they can avoid the wolf instead of running around. Once they get hungry enough, they will no longer want to hide as they will have to risk going outside for food."
   ]
  },
  {
   "cell_type": "code",
   "execution_count": 8,
   "metadata": {},
   "outputs": [],
   "source": [
    "def hiding(robot):\n",
    "    left, right = robot.prox_activations(tracked_objects=[\"Cup\"])\n",
    "\n",
    "    return right, left, 1 - robot.hunger_level # The less hungry, the more the chicken priorizes hiding themselves"
   ]
  },
  {
   "cell_type": "markdown",
   "metadata": {},
   "source": [
    "Once the chicken behaviours are defined, we will record the internal variables of the chickens in order to plot them later."
   ]
  },
  {
   "cell_type": "code",
   "execution_count": 9,
   "metadata": {},
   "outputs": [],
   "source": [
    "def chicken_log(robot):\n",
    "    # Retrieve the values of the speed and hunger:\n",
    "    robot.add_log(\"speed\", robot.max_speed)\n",
    "    robot.add_log(\"hunger\", robot.hunger_level)"
   ]
  },
  {
   "cell_type": "markdown",
   "metadata": {},
   "source": [
    "Now we begin with programming the behaviors and rootines of the wolf. First we begin with the chicken hunting behavior. This behavior will be controlled by an internal state of the wolf which is his hunger level. We will first define this rootine in the cell below. "
   ]
  },
  {
   "cell_type": "code",
   "execution_count": 10,
   "metadata": {},
   "outputs": [],
   "source": [
    "def wolf_hunger(robot):\n",
    "    left, right = robot.prox_activations(tracked_objects=[\"ePuck\"])\n",
    "    distance = (left + right)/2 \n",
    "    if distance > 0.8: \n",
    "        robot.hunger_level == 0 # if the robot has eaten a chicken, decrease its hunger level to 0\n",
    "    else:\n",
    "        robot.hunger_level += 0.2  # otherwise (nothing eaten), increase the hunger level by 0.2\n",
    "    # The line below bounds the value of the hunger level between 0 and 1\n",
    "    robot.hunger_level = min(1., max(robot.hunger_level, 0.))"
   ]
  },
  {
   "cell_type": "code",
   "execution_count": 11,
   "metadata": {},
   "outputs": [],
   "source": [
    "def chicken_hunting(robot):\n",
    "    left, right = robot.prox_activations(tracked_objects=[\"ePuck\"])\n",
    "    left_wheel = right\n",
    "    right_wheel = left\n",
    "    \n",
    "    return left_wheel, right_wheel, robot.hunger_level * robot.energy_level "
   ]
  },
  {
   "cell_type": "markdown",
   "metadata": {},
   "source": [
    "When the wolf begins hunting for chickens, the behavior will be controlled by an internal state which we will call energy level. This energy level decreases over a certain period of time. It start with 1 and decreases by 0.1. "
   ]
  },
  {
   "cell_type": "code",
   "execution_count": 12,
   "metadata": {},
   "outputs": [],
   "source": [
    "def energy_level(robot):\n",
    "    left, right = robot.prox_activations(tracked_objects=[\"ePuck\"])\n",
    "    if left or right > 0:\n",
    "        robot.energy_level -= 0.2\n",
    "    else: robot.energy_level = 1\n",
    "        \n",
    "    robot.energy_level = min(1., max(robot.energy_level, 0.))\n",
    "    "
   ]
  },
  {
   "cell_type": "markdown",
   "metadata": {},
   "source": [
    "Below is the code to implement a fear of the farmer (base of the chicken) behavior to the wolf. This behavior makes sure that the wolf stays away from the farmer because he is armed and dangerous. The behavior has a higher weight than the hunting behavior. "
   ]
  },
  {
   "cell_type": "code",
   "execution_count": 13,
   "metadata": {},
   "outputs": [],
   "source": [
    "def fear_farmer(robot):\n",
    "    left, right = robot.prox_activations(tracked_objects=[\"Cup\"])\n",
    "    left_wheel = left\n",
    "    right_wheel = right\n",
    "    return left_wheel, right_wheel"
   ]
  },
  {
   "cell_type": "markdown",
   "metadata": {},
   "source": [
    "Once we have defined all the behaviours of the chickens and the wolf, we will assign them and let them interact with eachother."
   ]
  },
  {
   "cell_type": "code",
   "execution_count": 14,
   "metadata": {},
   "outputs": [
    {
     "name": "stdout",
     "output_type": "stream",
     "text": [
      "Routine hunger started\n",
      "Routine chicken_log started\n",
      "Behavior obstacle_avoidance started\n",
      "Behavior food_chasing started\n",
      "Behavior wolf_avoidance started\n",
      "Behavior hiding started\n",
      "Routine hunger started\n",
      "Routine chicken_log started\n",
      "Behavior obstacle_avoidance started\n",
      "Behavior food_chasing started\n",
      "Behavior wolf_avoidance started\n",
      "Behavior hiding started\n",
      "Routine wolf_hunger started\n",
      "Behavior obstacle_avoidance started\n",
      "Behavior chicken_hunting started\n",
      "Behavior fear_farmer started\n"
     ]
    }
   ],
   "source": [
    "for e in simulator.robots:\n",
    "    e.detach_all_behaviors()\n",
    "    e.stop()\n",
    "    e.attach_behavior(obstacle_avoidance, freq=10) # All will use obstacle avoidance\n",
    "\n",
    "# We initialize internal variables\n",
    "epuck1.max_speed = 4 # Chicken are slower than the wolf\n",
    "epuck2.max_speed = 4 \n",
    "epuck3.max_speed = 7\n",
    "\n",
    "epuck1.hunger_level = 1 # The chickens will start the simulation hungry\n",
    "epuck2.hunger_level = 1\n",
    "epuck3.hunger_level = 1\n",
    "\n",
    "epuck3.energy_level = 1 # The wolf starts the simulation well rested\n",
    "\n",
    "# Attaching behaviours and routines for the chickens\n",
    "epuck1.attach_routine(hunger, freq=1)\n",
    "epuck2.attach_routine(hunger, freq=1)\n",
    "epuck1.attach_routine(chicken_log, freq=1)\n",
    "epuck2.attach_routine(chicken_log, freq=1)\n",
    "epuck1.attach_behavior(food_chasing, freq=10)\n",
    "epuck2.attach_behavior(food_chasing, freq=10)\n",
    "epuck1.attach_behavior(wolf_avoidance, freq=10)\n",
    "epuck2.attach_behavior(wolf_avoidance, freq=10)\n",
    "epuck1.attach_behavior(hiding, freq=10)\n",
    "epuck2.attach_behavior(hiding, freq=10)\n",
    "\n",
    "# Attaching behaviours and routines for the wolf\n",
    "epuck3.attach_routine(wolf_hunger, freq=1)\n",
    "epuck3.attach_behavior(chicken_hunting, freq=10)\n",
    "epuck3.attach_behavior(fear_farmer, freq=10)\n",
    "\n",
    "# Begin the simulation\n",
    "for e in simulator.robots:\n",
    "    e.start_all_routines()\n",
    "    e.start_all_behaviors()"
   ]
  },
  {
   "cell_type": "markdown",
   "metadata": {},
   "source": [
    "Now that the simulation is running, we can plot the internal variables of the wolf and chickens. The following code will plot the hunger level over time of the chickens."
   ]
  },
  {
   "cell_type": "code",
   "execution_count": 18,
   "metadata": {},
   "outputs": [
    {
     "data": {
      "text/plain": [
       "Text(0.5, 1.0, 'Plot of hunger level against time')"
      ]
     },
     "execution_count": 18,
     "metadata": {},
     "output_type": "execute_result"
    },
    {
     "data": {
      "image/png": "[encoded data removed]",
      "text/plain": [
       "<Figure size 640x480 with 1 Axes>"
      ]
     },
     "metadata": {},
     "output_type": "display_data"
    }
   ],
   "source": [
    "%matplotlib inline\n",
    "\n",
    "# Plot the hunger levels recorded by the chickens\n",
    "plot(epuck1.get_log(\"hunger\"))\n",
    "plot(epuck2.get_log(\"hunger\"))\n",
    "legend([\"Chicken 1\", \"Chicken 2\"])\n",
    "\n",
    "xlabel(\"Time\")\n",
    "ylabel(\"Hunger level\")\n",
    "title(\"Plot of hunger level against time\")"
   ]
  },
  {
   "cell_type": "markdown",
   "metadata": {},
   "source": [
    "Next we will plot the speed of the chickens over time."
   ]
  },
  {
   "cell_type": "code",
   "execution_count": 20,
   "metadata": {},
   "outputs": [
    {
     "data": {
      "text/plain": [
       "Text(0.5, 1.0, 'Plot of speed against time')"
      ]
     },
     "execution_count": 20,
     "metadata": {},
     "output_type": "execute_result"
    },
    {
     "data": {
      "image/png": "[encoded data removed]",
      "text/plain": [
       "<Figure size 640x480 with 1 Axes>"
      ]
     },
     "metadata": {},
     "output_type": "display_data"
    }
   ],
   "source": [
    "%matplotlib inline\n",
    "\n",
    "# Plot the speed recorded by the chickens\n",
    "plot(epuck1.get_log(\"speed\"))\n",
    "plot(epuck2.get_log(\"speed\"))\n",
    "legend([\"Chicken 1\", \"Chicken 2\"])\n",
    "\n",
    "xlabel(\"Time\")\n",
    "ylabel(\"Speed\")\n",
    "title(\"Plot of speed against time\")"
   ]
  },
  {
   "cell_type": "markdown",
   "metadata": {},
   "source": [
    "To finish the simulation, execute the following line:"
   ]
  },
  {
   "cell_type": "code",
   "execution_count": null,
   "metadata": {},
   "outputs": [],
   "source": [
    "close_session(simulator)"
   ]
  }
 ],
 "metadata": {
  "kernelspec": {
   "display_name": "Python 3 (ipykernel)",
   "language": "python",
   "name": "python3"
  },
  "language_info": {
   "codemirror_mode": {
    "name": "ipython",
    "version": 3
   },
   "file_extension": ".py",
   "mimetype": "text/x-python",
   "name": "python",
   "nbconvert_exporter": "python",
   "pygments_lexer": "ipython3",
   "version": "3.11.5"
  }
 },
 "nbformat": 4,
 "nbformat_minor": 1
}
