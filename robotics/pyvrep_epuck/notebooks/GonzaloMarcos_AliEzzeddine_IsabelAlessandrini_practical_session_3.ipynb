{
 "cells": [
  {
   "cell_type": "markdown",
   "metadata": {},
   "source": [
    "# Practical session 3: Parallel behaviors and more sensing abilities"
   ]
  },
  {
   "cell_type": "markdown",
   "metadata": {},
   "source": [
    "Group formed by: Gonzalo Marcos, Ali Ezzeddine and Isabel Alessandrini."
   ]
  },
  {
   "cell_type": "markdown",
   "metadata": {},
   "source": [
    "In the last practical session, we saw how to define, attach, start, stop and detach a behavior on an E-Puck robot. We implemented three distinct behaviors: `slow_down`, `fear` and `aggression`.\n",
    "\n",
    "In this section we will see more sensing abilities the E-Puck is equipped with, will define new behaviors using them and will see how to deal with multiple behaviors running in parallel on the same robot. At the end of the session, we will also see how to attach those behaviors on multiple robots interacting together within a V-REP scene."
   ]
  },
  {
   "cell_type": "markdown",
   "metadata": {},
   "source": [
    "Open V-REP and load the scene `epuck-scene-3.ttt` located in the directory `Documents/robotics/pyvrep_epuck/vrep-scenes`."
   ]
  },
  {
   "cell_type": "markdown",
   "metadata": {},
   "source": [
    "As usual, open the simulator session:"
   ]
  },
  {
   "cell_type": "code",
   "execution_count": 2,
   "metadata": {},
   "outputs": [],
   "source": [
    "from simulator_interface import open_session, close_session\n",
    "simulator, epuck = open_session()"
   ]
  },
  {
   "cell_type": "markdown",
   "metadata": {},
   "source": [
    "Then execute the code you will encounter in the notebook or the code you will write for answering the questions. Whenever you want to restart from scratch (e.g. because something goes wrong), first close the session by executing:"
   ]
  },
  {
   "cell_type": "code",
   "execution_count": 5,
   "metadata": {},
   "outputs": [],
   "source": [
    "close_session(simulator)  # Only execute this cell and the one below when something goes wrong"
   ]
  },
  {
   "cell_type": "markdown",
   "metadata": {},
   "source": [
    "This will properly close all the running processes. Then restart the notebook (`Kernel -> Restart`) and open the session again:"
   ]
  },
  {
   "cell_type": "code",
   "execution_count": 6,
   "metadata": {},
   "outputs": [
    {
     "ename": "VrepIOErrors",
     "evalue": "Remote error",
     "output_type": "error",
     "traceback": [
      "\u001b[1;31m---------------------------------------------------------------------------\u001b[0m",
      "\u001b[1;31mVrepIOErrors\u001b[0m                              Traceback (most recent call last)",
      "Cell \u001b[1;32mIn[6], line 2\u001b[0m\n\u001b[0;32m      1\u001b[0m \u001b[38;5;28;01mfrom\u001b[39;00m \u001b[38;5;21;01msimulator_interface\u001b[39;00m \u001b[38;5;28;01mimport\u001b[39;00m open_session, close_session\n\u001b[1;32m----> 2\u001b[0m simulator, epuck \u001b[38;5;241m=\u001b[39m open_session()\n",
      "File \u001b[1;32m~\\Documents\\Master\\2ndo trim\\System Design\\System-Design-Exercices\\robotics\\pyvrep_epuck\\notebooks\\../..\\pyvrep_epuck\\vrep\\simulator.py:41\u001b[0m, in \u001b[0;36mget_session\u001b[1;34m(n_epucks, use_proximeters, old_simulator, old_epuck)\u001b[0m\n\u001b[0;32m     39\u001b[0m simulator \u001b[38;5;241m=\u001b[39m Simulator()\n\u001b[0;32m     40\u001b[0m simulator\u001b[38;5;241m.\u001b[39mio\u001b[38;5;241m.\u001b[39mrestart_simulation()\n\u001b[1;32m---> 41\u001b[0m epucks \u001b[38;5;241m=\u001b[39m [simulator\u001b[38;5;241m.\u001b[39mget_epuck(use_proximeters\u001b[38;5;241m=\u001b[39muse_proximeters) \u001b[38;5;28;01mfor\u001b[39;00m _ \u001b[38;5;129;01min\u001b[39;00m \u001b[38;5;28mrange\u001b[39m(n_epucks)]\n\u001b[0;32m     42\u001b[0m \u001b[38;5;28;01mif\u001b[39;00m n_epucks \u001b[38;5;241m==\u001b[39m \u001b[38;5;241m1\u001b[39m:\n\u001b[0;32m     43\u001b[0m     \u001b[38;5;28;01mreturn\u001b[39;00m simulator, epucks[\u001b[38;5;241m0\u001b[39m]\n",
      "File \u001b[1;32m~\\Documents\\Master\\2ndo trim\\System Design\\System-Design-Exercices\\robotics\\pyvrep_epuck\\notebooks\\../..\\pyvrep_epuck\\vrep\\simulator.py:41\u001b[0m, in \u001b[0;36m<listcomp>\u001b[1;34m(.0)\u001b[0m\n\u001b[0;32m     39\u001b[0m simulator \u001b[38;5;241m=\u001b[39m Simulator()\n\u001b[0;32m     40\u001b[0m simulator\u001b[38;5;241m.\u001b[39mio\u001b[38;5;241m.\u001b[39mrestart_simulation()\n\u001b[1;32m---> 41\u001b[0m epucks \u001b[38;5;241m=\u001b[39m [simulator\u001b[38;5;241m.\u001b[39mget_epuck(use_proximeters\u001b[38;5;241m=\u001b[39muse_proximeters) \u001b[38;5;28;01mfor\u001b[39;00m _ \u001b[38;5;129;01min\u001b[39;00m \u001b[38;5;28mrange\u001b[39m(n_epucks)]\n\u001b[0;32m     42\u001b[0m \u001b[38;5;28;01mif\u001b[39;00m n_epucks \u001b[38;5;241m==\u001b[39m \u001b[38;5;241m1\u001b[39m:\n\u001b[0;32m     43\u001b[0m     \u001b[38;5;28;01mreturn\u001b[39;00m simulator, epucks[\u001b[38;5;241m0\u001b[39m]\n",
      "File \u001b[1;32m~\\Documents\\Master\\2ndo trim\\System Design\\System-Design-Exercices\\robotics\\pyvrep_epuck\\notebooks\\../..\\pyvrep_epuck\\vrep\\simulator.py:179\u001b[0m, in \u001b[0;36mSimulator.get_epuck\u001b[1;34m(self, use_proximeters, verbose)\u001b[0m\n\u001b[0;32m    177\u001b[0m \u001b[38;5;28;01mdef\u001b[39;00m \u001b[38;5;21mget_epuck\u001b[39m(\u001b[38;5;28mself\u001b[39m, use_proximeters\u001b[38;5;241m=\u001b[39m\u001b[38;5;28mlist\u001b[39m(\u001b[38;5;28mrange\u001b[39m(\u001b[38;5;241m8\u001b[39m)), verbose\u001b[38;5;241m=\u001b[39m\u001b[38;5;28;01mFalse\u001b[39;00m):\n\u001b[0;32m    178\u001b[0m     suffix \u001b[38;5;241m=\u001b[39m \u001b[38;5;28mself\u001b[39m\u001b[38;5;241m.\u001b[39m_vrep_epuck_suffix(\u001b[38;5;28mself\u001b[39m\u001b[38;5;241m.\u001b[39mn_robots)\n\u001b[1;32m--> 179\u001b[0m     epuck \u001b[38;5;241m=\u001b[39m Epuck(pypot_io\u001b[38;5;241m=\u001b[39mVrepIO(\u001b[38;5;28mself\u001b[39m\u001b[38;5;241m.\u001b[39mio\u001b[38;5;241m.\u001b[39mvrep_host, \u001b[38;5;28mself\u001b[39m\u001b[38;5;241m.\u001b[39mio\u001b[38;5;241m.\u001b[39mvrep_port \u001b[38;5;241m+\u001b[39m \u001b[38;5;28mself\u001b[39m\u001b[38;5;241m.\u001b[39mn_robots \u001b[38;5;241m+\u001b[39m \u001b[38;5;241m1\u001b[39m), simulator\u001b[38;5;241m=\u001b[39m\u001b[38;5;28mself\u001b[39m, robot_id\u001b[38;5;241m=\u001b[39m\u001b[38;5;28mself\u001b[39m\u001b[38;5;241m.\u001b[39mn_robots, use_proximeters\u001b[38;5;241m=\u001b[39muse_proximeters, suffix\u001b[38;5;241m=\u001b[39msuffix)\n\u001b[0;32m    180\u001b[0m     \u001b[38;5;28mself\u001b[39m\u001b[38;5;241m.\u001b[39msuffix_to_epuck[suffix] \u001b[38;5;241m=\u001b[39m epuck\n\u001b[0;32m    181\u001b[0m     \u001b[38;5;28mself\u001b[39m\u001b[38;5;241m.\u001b[39mrobots\u001b[38;5;241m.\u001b[39mappend(epuck)\n",
      "File \u001b[1;32m~\\Documents\\Master\\2ndo trim\\System Design\\System-Design-Exercices\\robotics\\pyvrep_epuck\\notebooks\\../..\\pyvrep_epuck\\robots\\epuck.py:59\u001b[0m, in \u001b[0;36mEpuck.__init__\u001b[1;34m(self, pypot_io, simulator, robot_id, freq, use_proximeters, suffix)\u001b[0m\n\u001b[0;32m     56\u001b[0m         \u001b[38;5;28mself\u001b[39m\u001b[38;5;241m.\u001b[39m_prox_handles\u001b[38;5;241m.\u001b[39mappend(p)\n\u001b[0;32m     57\u001b[0m     \u001b[38;5;28;01melse\u001b[39;00m:\n\u001b[0;32m     58\u001b[0m         \u001b[38;5;66;03m# hide proximeter ray\u001b[39;00m\n\u001b[1;32m---> 59\u001b[0m         \u001b[38;5;28mself\u001b[39m\u001b[38;5;241m.\u001b[39mhide_ray(i)\n\u001b[0;32m     61\u001b[0m \u001b[38;5;66;03m# First calls with simx_opmode_streaming\u001b[39;00m\n\u001b[0;32m     62\u001b[0m \u001b[38;5;28;01mfor\u001b[39;00m h \u001b[38;5;129;01min\u001b[39;00m \u001b[38;5;28mself\u001b[39m\u001b[38;5;241m.\u001b[39m_prox_handles:\n",
      "File \u001b[1;32m~\\Documents\\Master\\2ndo trim\\System Design\\System-Design-Exercices\\robotics\\pyvrep_epuck\\notebooks\\../..\\pyvrep_epuck\\robots\\epuck.py:122\u001b[0m, in \u001b[0;36mEpuck.hide_ray\u001b[1;34m(self, prox_id)\u001b[0m\n\u001b[0;32m    121\u001b[0m \u001b[38;5;28;01mdef\u001b[39;00m \u001b[38;5;21mhide_ray\u001b[39m(\u001b[38;5;28mself\u001b[39m, prox_id):\n\u001b[1;32m--> 122\u001b[0m     \u001b[38;5;28mself\u001b[39m\u001b[38;5;241m.\u001b[39mio\u001b[38;5;241m.\u001b[39mcall_remote_api(\u001b[38;5;124m\"\u001b[39m\u001b[38;5;124msimxSetObjectIntParameter\u001b[39m\u001b[38;5;124m\"\u001b[39m, \u001b[38;5;28mself\u001b[39m\u001b[38;5;241m.\u001b[39m_all_prox_handles[prox_id], \u001b[38;5;241m4000\u001b[39m, \u001b[38;5;241m1\u001b[39m, sending\u001b[38;5;241m=\u001b[39m\u001b[38;5;28;01mTrue\u001b[39;00m)\n",
      "File \u001b[1;32m~\\Documents\\Master\\2ndo trim\\System Design\\System-Design-Exercices\\robotics\\pyvrep_epuck\\notebooks\\../../pypot\\pypot\\vrep\\io.py:369\u001b[0m, in \u001b[0;36mVrepIO.call_remote_api\u001b[1;34m(self, func_name, *args, **kwargs)\u001b[0m\n\u001b[0;32m    366\u001b[0m \u001b[38;5;28;01mif\u001b[39;00m \u001b[38;5;28many\u001b[39m(err):\n\u001b[0;32m    367\u001b[0m     msg \u001b[38;5;241m=\u001b[39m \u001b[38;5;124m'\u001b[39m\u001b[38;5;124m \u001b[39m\u001b[38;5;124m'\u001b[39m\u001b[38;5;241m.\u001b[39mjoin([vrep_error[\u001b[38;5;241m2\u001b[39m \u001b[38;5;241m*\u001b[39m\u001b[38;5;241m*\u001b[39m i]\n\u001b[0;32m    368\u001b[0m                     \u001b[38;5;28;01mfor\u001b[39;00m i, e \u001b[38;5;129;01min\u001b[39;00m \u001b[38;5;28menumerate\u001b[39m(err) \u001b[38;5;28;01mif\u001b[39;00m e])\n\u001b[1;32m--> 369\u001b[0m     \u001b[38;5;28;01mraise\u001b[39;00m VrepIOErrors(msg)\n\u001b[0;32m    371\u001b[0m \u001b[38;5;28;01mreturn\u001b[39;00m res\n",
      "\u001b[1;31mVrepIOErrors\u001b[0m: Remote error"
     ]
    }
   ],
   "source": [
    "from simulator_interface import open_session, close_session\n",
    "simulator, epuck = open_session()"
   ]
  },
  {
   "cell_type": "markdown",
   "metadata": {},
   "source": [
    "And you will restart with a clean and fresh session."
   ]
  },
  {
   "cell_type": "markdown",
   "metadata": {},
   "source": [
    "## Selectively detecting scene objects\n",
    "\n",
    "To define a repertoire of interesting behaviors, we need the robot to selectively sense the proximity of different types of objects. For example, we might want to define a behavior for obstacle avoidance and another one for attraction towards mates. The first behavior will require the proximity from walls and pillars, whereas the second will require the proximity from other robots (although there is only one robot in the scene for now, we'll add more at the end of this session). \n",
    "\n",
    "We can filter the result returned by the E-Puck's proximeters by providing the argument `tracked_objects` to the `prox_activations` function:"
   ]
  },
  {
   "cell_type": "code",
   "execution_count": null,
   "metadata": {},
   "outputs": [],
   "source": [
    "left, right = epuck.prox_activations(tracked_objects=[\"Cup\"])\n",
    "print(left, right)"
   ]
  },
  {
   "cell_type": "markdown",
   "metadata": {},
   "source": [
    "Executing the cell above will return the proximeter activations only for the `Cup` objects (the kind of trash bins in the V-REP scene). Give it a try by moving a cup in the detection area of the proximiters and re-executing the cell above to observe the change in the returned values. You can also check that the proximeter activations are not modified by other objects such as pillars.\n",
    "\n",
    "The `tracked_objects` argument requires a list of strings (`[\"Cup\"]` in the example above). In Python, a list is a collection of values separated by commas and surrounded by square bracket: `[\"Cup\"]` is therefore a list of only one element (the string `\"Cup\"`), whereas `[\"Cup\", \"ePuck\"]` is a list of two elements (the strings `\"Cup\"` and `\"ePuck\"`). \n",
    "The `tracked_objects` argument, as its name indicates, sets the objects to be tracked by the proximeters. Each object in a V-REP scene has a name, which is shown when you select an object by clicking on it in the interface. You can also inspect the names of all the objects in the `Scene hierarchy` panel on the left (if not visible, you can activate in the `Tools` menu). For example, we see that the cups have the names `Cup`, `Cup0`, `Cup1` etc ..\n",
    "\n",
    "In the cell above, `tracked_objects=[\"Cup\"]` means *only return the proximeter activations of objects having their names starting with `\"Cup\"`*. Since only cups have their names starting with `Cup`, it will return the proximeter activation only for cups, not considering e.g. walls and pillars."
   ]
  },
  {
   "cell_type": "markdown",
   "metadata": {},
   "source": [
    "**Q1:** Write the code printing the proximeter activations for walls and pillars and test that it works as expected by placing your epuck close to those objects and verifying the returned values:"
   ]
  },
  {
   "cell_type": "code",
   "execution_count": null,
   "metadata": {},
   "outputs": [],
   "source": [
    "left, right = epuck.prox_activations(tracked_objects=[\"20cmHigh\"])\n",
    "print(left, right)"
   ]
  },
  {
   "cell_type": "markdown",
   "metadata": {},
   "source": [
    "In order to track several types of objects at the same time, we can pass several strings to `tracked_objects`. For example, if we want to track both cups and trees, we will write:"
   ]
  },
  {
   "cell_type": "code",
   "execution_count": null,
   "metadata": {},
   "outputs": [],
   "source": [
    "left, right = epuck.prox_activations(tracked_objects=[\"Cup\", \"Tree\"])\n",
    "print(left, right)"
   ]
  },
  {
   "cell_type": "markdown",
   "metadata": {},
   "source": [
    "This is because all trees in the scene have their name starting with `Tree` (`Tree`, `Tree#0`, `Tree#1` etc..., as shown in the `Scene hierarchy` panel).\n",
    "\n",
    "**Q2:** Define an `obstacle_avoidance` behavior. Obstacles are walls, pillars and trees, but not cups.  The robot has to turn in the direction opposite to the obstacle, with its speed inversely proportional to the proximeter activations (the closer an obstacle, the lower the speed). \n",
    "*Tip:* it is similar to the `shyness` behavior of [Braitenberg vehicles](https://docs.google.com/presentation/d/1s6ibk_ACiJb9CERJ_8L_b4KFu9d04ZG_htUbb_YSYT4/edit#slide=id.g31e1b425a3_0_0)."
   ]
  },
  {
   "cell_type": "code",
   "execution_count": 9,
   "metadata": {},
   "outputs": [],
   "source": [
    "def obstacle_avoidance(epuck):\n",
    "    # Write your code below\n",
    "    left, right = epuck.prox_activations(tracked_objects=[\"20cmHigh\", \"Tree\"])\n",
    "    \n",
    "    # Step (2): do some computation\n",
    "\n",
    "    # Step (3): return the motor activations\n",
    "    return 1 - right, 1 - left"
   ]
  },
  {
   "cell_type": "markdown",
   "metadata": {},
   "source": [
    "Remember that to test a behavior, you first have to detach all behaviors that could still be attached to the E-Puck, then to attach and start the new one, that is:"
   ]
  },
  {
   "cell_type": "code",
   "execution_count": 11,
   "metadata": {},
   "outputs": [
    {
     "name": "stdout",
     "output_type": "stream",
     "text": [
      "Behavior obstacle_avoidance started\n"
     ]
    }
   ],
   "source": [
    "epuck.detach_all_behaviors()\n",
    "epuck.attach_behavior(obstacle_avoidance, freq=10)\n",
    "epuck.start_all_behaviors()"
   ]
  },
  {
   "cell_type": "markdown",
   "metadata": {},
   "source": [
    "## Environmental dynamics"
   ]
  },
  {
   "cell_type": "markdown",
   "metadata": {},
   "source": [
    "Until now the environment in which the E-Puck is evolving is quite static: although some objects can be pushed by the robot (e.g. the cups), there is nothing that appears or disappears in the environment. We are now going to see how we can generate food sources appearing at random positions in the environment and disappearing whenever a robot eat them. A food source is modeled as a V-REP `Sphere` object, meaning that it can roll on the floor. Making such spheres to appear at regular time intervals and at random positions in the environment is done with:"
   ]
  },
  {
   "cell_type": "code",
   "execution_count": null,
   "metadata": {},
   "outputs": [],
   "source": [
    "simulator.start_sphere_apparition(period=5.)"
   ]
  },
  {
   "cell_type": "markdown",
   "metadata": {},
   "source": [
    "where `period` indicates the time interval at which spheres will appear (here every 5 seconds). In order to stop sphere apparition:"
   ]
  },
  {
   "cell_type": "code",
   "execution_count": null,
   "metadata": {},
   "outputs": [],
   "source": [
    "simulator.stop_sphere_apparition()"
   ]
  },
  {
   "cell_type": "markdown",
   "metadata": {},
   "source": [
    "We can also specify in which area spheres appear through the `min_pos` and `max_pos` arguments:"
   ]
  },
  {
   "cell_type": "code",
   "execution_count": null,
   "metadata": {},
   "outputs": [],
   "source": [
    "simulator.start_sphere_apparition(period=5, min_pos=[-2, -1, 1], max_pos=[2., 0.5, 2])"
   ]
  },
  {
   "cell_type": "markdown",
   "metadata": {},
   "source": [
    "The cell above will generate spheres at random 3D positions $(x, y, z)$ in the scene with $x\\in[-2, 2]$, $y\\in[-1, 0.5]$ and $z\\in[1, 2]$ (analyze the cell above to understand how the `min_pos` and `max_pos` arguments are converted in $(x, y, z)$ intervals and ask us if it is not clear). You can check how the $x, y, z$ axes are oriented at the bottom-right corner of the V-REP scene (try to rotate the scene while looking at it). When selecting an object, you can check the coordinate of its center in the text located in the top-left corner of the scene (`Last selected object position`). The center of the scene is at $x=0, y=0, z=0$. The floor is contained in (approximately) $x\\in[-2.5, 2.5]$ and $y\\in[-2.5, 2.5]$, with $z=0$ on the surface. \n",
    "\n",
    "**Q3:** Write the code that makes sphere appearing just above one of the trees and so that they then roll in various directions:"
   ]
  },
  {
   "cell_type": "code",
   "execution_count": null,
   "metadata": {},
   "outputs": [],
   "source": [
    "# Tree position = [0.2244, -0.7357, 0.3647]\n",
    "simulator.start_sphere_apparition(period=10, min_pos=[0.2244, -0.7357, 1], max_pos=[0.2244, -0.7357, 2])"
   ]
  },
  {
   "cell_type": "markdown",
   "metadata": {},
   "source": [
    "Whenever the E-Puck is touching a sphere it will \"eat\" it, meaning that the sphere will disappear from the environment. You can see it by manually moving the E-Puck close to a sphere (the sphere should disappear, although this might take some time). Note however that the spheres will disappear only if the sphere apparition is activated (i.e. if you haven't executed `simulator.stop_sphere_apparition()` as the last command: in that case, you will have to re-execute `simulator.start_sphere_apparition(period=5.)` as above).\n",
    "\n",
    "If no E-Puck is eating the spheres, you might end up with a large number of spheres occupying the environment and this could dramatically impair the V-REP performances. In that case, clean the environment by closing and restarting the session as explained at the beginning of the notebook. A good practice to avoid the proliferation of spheres is to increase the period (e.g.`simulator.start_sphere_apparition(period=20.)`) and to stop sphere apparition whenever you don't need it."
   ]
  },
  {
   "cell_type": "markdown",
   "metadata": {},
   "source": [
    "## Combining behaviors"
   ]
  },
  {
   "cell_type": "markdown",
   "metadata": {},
   "source": [
    "**Q4:** Define a behavior allowing the robot to catch food sources, let's call it `foraging`. The robot has to orient itself toward food sources, with a speed proportional to the proximiter activations (the closer the food source, the higher the speed) *Tip 1:* It's similar to the `aggression` behavior. *Tip 2:* Generated spheres have their names starting by \"Sphere\" (you can see it in V-REP in the scene hierarchy panel)."
   ]
  },
  {
   "cell_type": "code",
   "execution_count": null,
   "metadata": {},
   "outputs": [],
   "source": [
    "def foraging(epuck):\n",
    "    # Write your code below\n",
    "    left, right = epuck.prox_activations(tracked_objects=[\"Sphere\"])\n",
    "    \n",
    "    return right, left"
   ]
  },
  {
   "cell_type": "markdown",
   "metadata": {},
   "source": [
    "Attach and start the behavior on the E-Puck: "
   ]
  },
  {
   "cell_type": "code",
   "execution_count": null,
   "metadata": {},
   "outputs": [],
   "source": [
    "# First detach previous behaviors that might still be attached to the robot\n",
    "epuck.detach_all_behaviors()\n",
    "\n",
    "# Write the code to attach and start the `foraging` behavior below\n",
    "epuck.attach_behavior(foraging, freq=10)\n",
    "epuck.start_all_behaviors()"
   ]
  },
  {
   "cell_type": "markdown",
   "metadata": {},
   "source": [
    "Whenever a sphere is detected by the proximeters, the robot should go towards it. However, if at one point the proximeters don't detect any sphere, the robot will probably stop (depending on how you have defined the behavior). The only event that could make the robot move again would be a sphere that rolls within the proximeter detection area, which is not very likely to happen (and therefore quite a bad option if the survival of the robot depends on its foraging abilities). A solution to avoid such a blocking situation is to combine the `foraging` behavior with another one that keeps the robot in movement, as it is for example the case of the `obstacle_avoidance` behavior we have defined before. Let's attach and start the `obstacle_avoidance` behavior, but this time without detaching the previously attached `foraging` behavior:"
   ]
  },
  {
   "cell_type": "code",
   "execution_count": null,
   "metadata": {},
   "outputs": [],
   "source": [
    "epuck.attach_behavior(obstacle_avoidance, freq=10)\n",
    "epuck.start_behavior(obstacle_avoidance)"
   ]
  },
  {
   "cell_type": "markdown",
   "metadata": {},
   "source": [
    "Since we haven't detached the previous behavior, the robot is now executing two behaviors in parallel. This can be checked with:"
   ]
  },
  {
   "cell_type": "code",
   "execution_count": null,
   "metadata": {},
   "outputs": [],
   "source": [
    "epuck.check_behaviors()"
   ]
  },
  {
   "cell_type": "markdown",
   "metadata": {},
   "source": [
    "which tells us that both behaviors are attached and started. In V-REP, you can see that the robot is now both foraging and avoiding obstacles. For doing so, the motor activation sent to each wheel corresponds to the average of the motor activation returned by each behavior (this averaging is implemented internally, you don't need to worry about it)."
   ]
  },
  {
   "cell_type": "markdown",
   "metadata": {},
   "source": [
    "## Floor sensor"
   ]
  },
  {
   "cell_type": "markdown",
   "metadata": {},
   "source": [
    "First restart the session to clean the environment. Close it:"
   ]
  },
  {
   "cell_type": "code",
   "execution_count": 1,
   "metadata": {},
   "outputs": [
    {
     "ename": "NameError",
     "evalue": "name 'simulator' is not defined",
     "output_type": "error",
     "traceback": [
      "\u001b[1;31m---------------------------------------------------------------------------\u001b[0m",
      "\u001b[1;31mNameError\u001b[0m                                 Traceback (most recent call last)",
      "Cell \u001b[1;32mIn[1], line 2\u001b[0m\n\u001b[0;32m      1\u001b[0m \u001b[38;5;28;01mfrom\u001b[39;00m \u001b[38;5;21;01msimulator_interface\u001b[39;00m \u001b[38;5;28;01mimport\u001b[39;00m open_session, close_session\n\u001b[1;32m----> 2\u001b[0m close_session(simulator)\n",
      "\u001b[1;31mNameError\u001b[0m: name 'simulator' is not defined"
     ]
    }
   ],
   "source": [
    "from simulator_interface import open_session, close_session\n",
    "close_session(simulator)"
   ]
  },
  {
   "cell_type": "markdown",
   "metadata": {},
   "source": [
    "Wait for the closing of the session (i.e. until the star on the left of the above cell disappears). \n",
    "\n",
    "Then reopen the session:"
   ]
  },
  {
   "cell_type": "code",
   "execution_count": null,
   "metadata": {},
   "outputs": [],
   "source": [
    "simulator, epuck = open_session()"
   ]
  },
  {
   "cell_type": "markdown",
   "metadata": {},
   "source": [
    "The E-Puck is equipped with one more sensor that we haven't seen yet and that could be useful for some projects: a floor sensor. It is able to detect a line drawn on the floor if it is placed on it. Read this sensor by executing:"
   ]
  },
  {
   "cell_type": "code",
   "execution_count": null,
   "metadata": {},
   "outputs": [],
   "source": [
    "floor_left, floor_middle, floor_right = epuck.floor_sensor()\n",
    "print(floor_left, floor_middle, floor_right)"
   ]
  },
  {
   "cell_type": "markdown",
   "metadata": {},
   "source": [
    "This returns three values, corresponding to the activity of the three floor sensors placed at the bottom of the robot: the first one on the left side, the second one on the middle side and the third one on the right side. Each of these sensors return 0.0 if no line is detected and 1.0 if a line is detected. Position the E-Puck on top of the black curved line which is on the scene floor such that when you execute the cell above, one of the sensors returns 1.0.(you will have to be quite precise, you can zoom in to the robot to have a better view).\n",
    "\n",
    "**Q5:** Define a `line_following` behavior, such that when the robot is positioned on the line which is drawn on the floor, it moves forward and keeps following it. *Tip 1*: reduce the maximum speed of the robot to obtain a more precise behavior (this is already done at the top of the code cell below). *Tip 2*: ask yourself the following questions: what should be the left and right wheel activations when only the left floor sensor is activated? when only the right floor sensor is activated? when only the middle floor sensor is activated? Write the behavior code in the cell below:"
   ]
  },
  {
   "cell_type": "code",
   "execution_count": 3,
   "metadata": {},
   "outputs": [],
   "source": [
    "# First reduce the maximum speed\n",
    "epuck.max_speed = 1.0\n",
    "\n",
    "def line_following(epuck):\n",
    "    # Write your code below\n",
    "    floor_left, floor_middle, floor_right = epuck.floor_sensor()\n",
    "    \n",
    "    if floor_middle == 0:\n",
    "        left = floor_right+0.1\n",
    "        right = floor_left+0.1\n",
    "    else: \n",
    "        left = 1\n",
    "        right = 1\n",
    "\n",
    "    return left, right    "
   ]
  },
  {
   "cell_type": "markdown",
   "metadata": {},
   "source": [
    "Then, as usual, detach all previously attached behaviors, attach the new one and start it."
   ]
  },
  {
   "cell_type": "code",
   "execution_count": 4,
   "metadata": {},
   "outputs": [
    {
     "name": "stdout",
     "output_type": "stream",
     "text": [
      "Behavior line_following started\n"
     ]
    }
   ],
   "source": [
    "epuck.detach_all_behaviors()\n",
    "epuck.attach_behavior(line_following, freq=10)\n",
    "epuck.start_all_behaviors()"
   ]
  },
  {
   "cell_type": "markdown",
   "metadata": {},
   "source": [
    "## Dealing with multiple robots"
   ]
  },
  {
   "cell_type": "markdown",
   "metadata": {},
   "source": [
    "This section explains how to deal with multiple robots and how to attach different behaviors to them.\n",
    "\n",
    "First close the current session:"
   ]
  },
  {
   "cell_type": "code",
   "execution_count": null,
   "metadata": {},
   "outputs": [],
   "source": [
    "close_session(simulator)"
   ]
  },
  {
   "cell_type": "markdown",
   "metadata": {},
   "source": [
    "Then restart the notebook (`Kernel -> Restart`).\n",
    "\n",
    "Select the E-Puck robot by clicking on it in the scene. Copy-paste it, either using the `Edit` menu, or by pressing the usual editing shortcut `Ctrl-C` then `Ctrl-V`. A new E-puck will be placed in the scene at the exact same position as the previous one. Drag and drop this new robot to another position. Now you should see two robots in the scene.\n",
    "\n",
    "Re-open a session, this time requesting the references to two E-Pucks instead of one, by executing:"
   ]
  },
  {
   "cell_type": "code",
   "execution_count": null,
   "metadata": {},
   "outputs": [],
   "source": [
    "from simulator_interface import open_session, close_session\n",
    "\n",
    "simulator, epuck1, epuck2 = open_session(n_epucks=2)"
   ]
  },
  {
   "cell_type": "markdown",
   "metadata": {},
   "source": [
    "Now you have access to the two E-Pucks through the variables `epuck1` and `epuck2` (these variables names are arbitrary, you can choose whatever you want, e.g. `predator` and `prey`). You can attach and start behaviors on each E-Puck independently, in the same way as you did before, simply using either the `epuck1` and `epuck2` variables instead of only `epuck` one as before.\n",
    "\n",
    "As an example, let's say we want to attach the `obstacle_avoidance` behavior we have defined above to `epuck1`, and both the `obstacle_avoidance` and the `foraging` behaviors to `epuck2`. \n",
    "Since we have restarted the notebook, you first need to re-execute the cells defining both behaviors above (i.e. the cells starting with `def obstacle_avoidance(epuck):` and `def foraging(epuck):`)."
   ]
  },
  {
   "cell_type": "markdown",
   "metadata": {},
   "source": [
    "The code will be:"
   ]
  },
  {
   "cell_type": "code",
   "execution_count": null,
   "metadata": {},
   "outputs": [],
   "source": [
    "# As usual, we detach the possibly already running behaviors.\n",
    "# Since we now have two epucks, called `epuck1` and `epuck2`, we have to do it on each of them.\n",
    "epuck1.detach_all_behaviors()\n",
    "epuck2.detach_all_behaviors()\n",
    "\n",
    "# Then we attach the obstacle avoidance behavior to epuck1:\n",
    "epuck1.attach_behavior(obstacle_avoidance, freq=10)\n",
    "\n",
    "# Then we attach both the obstacle avoidance and the foraging behavior to epuck2:\n",
    "epuck2.attach_behavior(obstacle_avoidance, freq=10)\n",
    "epuck2.attach_behavior(foraging, freq=10)\n",
    "\n",
    "# Finally, we start the attached behaviors on each epuck\n",
    "epuck1.start_all_behaviors()  # This will start obstacle_avoidance on epuck1 (because it is the only behavior we have attached to epuck1)\n",
    "epuck2.start_all_behaviors()  # This will start both obstacle_avoidance and foraging on epuck2 (because we have attached both behaviors on epuck2)"
   ]
  },
  {
   "cell_type": "markdown",
   "metadata": {},
   "source": [
    "**Q5:** Implement the `fear` and `aggression` behaviors so that they are directed only toward the other E-Puck, using the `tracked_objects` argument of the `prox_activations` function as we have seen above. Then attach both the `obstacle_avoidance` and the `aggression` behaviors to one E-Puck, and both the `obstacle_avoidance` and the `fear` behaviors on the second. If you did it well, you should observe a simple \"prey-predator\" interaction, where `epuck1` tries to catch `epuck2` and `epuck2` tries to escape from `epuck1`."
   ]
  },
  {
   "cell_type": "code",
   "execution_count": null,
   "metadata": {},
   "outputs": [],
   "source": [
    "# Your code here\n",
    "\n",
    "def fear(epuck):\n",
    "    left, right = epuck.prox_activations(tracked_objects=[\"epuck\"])\n",
    "\n",
    "    return left, right\n",
    "\n",
    "def aggression(epuck):\n",
    "    left, right = epuck.prox_activations(tracked_objects=[\"epuck\"])\n",
    "\n",
    "    return right, left\n",
    "\n",
    "epuck1.detach_all_behaviors()\n",
    "epuck2.detach_all_behaviors()\n",
    "\n",
    "epuck1.attach_behavior(obstacle_avoidance, freq=10)\n",
    "epuck1.attach_behavior(fear, freq=10)\n",
    "\n",
    "epuck2.attach_behavior(obstacle_avoidance, freq=10)\n",
    "epuck2.attach_behavior(aggression, freq=10)\n",
    "\n",
    "epuck1.start_all_behaviors()\n",
    "epuck2.start_all_behaviors()"
   ]
  }
 ],
 "metadata": {
  "kernelspec": {
   "display_name": "Python 3 (ipykernel)",
   "language": "python",
   "name": "python3"
  },
  "language_info": {
   "codemirror_mode": {
    "name": "ipython",
    "version": 3
   },
   "file_extension": ".py",
   "mimetype": "text/x-python",
   "name": "python",
   "nbconvert_exporter": "python",
   "pygments_lexer": "ipython3",
   "version": "3.11.5"
  }
 },
 "nbformat": 4,
 "nbformat_minor": 1
}
