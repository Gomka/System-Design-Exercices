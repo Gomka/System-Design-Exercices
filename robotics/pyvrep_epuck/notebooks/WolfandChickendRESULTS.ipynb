{
 "cells": [
  {
   "cell_type": "markdown",
   "metadata": {},
   "source": [
    "# Wolf and Chickens Game"
   ]
  },
  {
   "cell_type": "markdown",
   "metadata": {},
   "source": [
    "Group formed by Gonzalo Marcos, Ali Ezzeddine and Isabel Alessandrini"
   ]
  },
  {
   "cell_type": "markdown",
   "metadata": {},
   "source": [
    "                                                INTRODUCTION\n",
    "                                        \n",
    "This exercise aims to simulate the different dynamics involved in the interactions between a wolf, chickens and the food present in their environment. The different epucks of the simulation will represent the animals and each will have a series of behaviours and routines that will determine how and when they look for food, chase and run from eachother, and rest from their routine.\n",
    "\n",
    "The environmental design and the cognitive modelling is based on the work of Braitenberg, V. \"Vehicles: Experiments in Synthetic Psychology. Where \"animal brains seem to be interpretable as pieces of computer machinery because of their simplicity and/or regularity\" (Braitenberg, V., 1998). In robotics research and development, designers and engineers have for decades looked to biological systems for inspiration in building functional, flexible and robust robots (Bar-Cohen, 2005).\n",
    "\n",
    "The scene is a farm in a wooded area with chickens running around looking for food. The scenario includes trees of different sizes and textures (different species), small hills (bump), plants, cups and walls to simulate the corral. There are also two farmers looking after the chickens.\n",
    "\n",
    "The cognitive modelling simulate different behaviours and interactions between chikens and wolf:\n",
    "Chickens (two):\n",
    "- Obstacle avoidance (collision)\n",
    "- Speed\n",
    "- Hunger --> Food gathering --> Energy (speed level)\n",
    "- Fear (Wolf)\n",
    "- Love / Protection (Bill the farmer)\n",
    "\n",
    "\n",
    "Wolf:\n",
    "- Avoidance (collision)\n",
    "- Speed\n",
    "- Hunger --> Hunter --> Energy (Speed level)\n",
    "- Fear (Bill the Farmer)\n",
    "\n",
    "In the following coding sections, we will program the different behaviors of chickens and wolves using CoppeliaSim:\n",
    "\n",
    "\n",
    "First, we will start loading the scene `epuck-scene-4_ChickenWolfandBills.ttt` provided along with this code, and we will start the simulator software."
   ]
  },
  {
   "cell_type": "code",
   "execution_count": null,
   "metadata": {},
   "outputs": [],
   "source": [
    "from simulator_interface import open_session, close_session\n",
    "simulator, epuck1, epuck2, epuck3 = open_session(n_epucks=3)"
   ]
  },
  {
   "cell_type": "markdown",
   "metadata": {},
   "source": [
    "We will also assign which role each epuck will have in the simulation."
   ]
  },
  {
   "cell_type": "code",
   "execution_count": null,
   "metadata": {},
   "outputs": [],
   "source": [
    "epuck1.species = \"chicken\"\n",
    "epuck2.species = \"chicken\"\n",
    "epuck3.species = \"wolf\""
   ]
  },
  {
   "cell_type": "markdown",
   "metadata": {},
   "source": [
    "Next we will start defining the different behaviours and routines that the chickens and wolf will have. The first one, obstacle avoidance, will be shared by all as they will want to avoid colliding with the different obstacles present in the environment."
   ]
  },
  {
   "cell_type": "code",
   "execution_count": null,
   "metadata": {},
   "outputs": [],
   "source": [
    "def obstacle_avoidance(robot):\n",
    "    left, right = robot.prox_activations(tracked_objects=[\"20cm\", \"Tree\", \"Cup\", \"Bump\"]) # If more obstacles are added, they will have to be identified here.\n",
    " \n",
    "    return 1 - right, 1 - left"
   ]
  },
  {
   "cell_type": "markdown",
   "metadata": {},
   "source": [
    "The chickens want to obtain food from the environment while simultaneously avoid the wolf to not get eaten. We will represent the food with a series of spheres that will appear throughout the environment. In order to generate them, we will run the following code:"
   ]
  },
  {
   "cell_type": "code",
   "execution_count": null,
   "metadata": {},
   "outputs": [],
   "source": [
    "simulator.start_sphere_apparition(period=15, min_pos=[-1, -1, 1], max_pos=[3, 3, 2]) # The min_pos and max_pos arguments can be modified to restrict where the food will appear"
   ]
  },
  {
   "cell_type": "markdown",
   "metadata": {},
   "source": [
    "Now that we have food, we will define the behaviours that will allow the chickens to interact with it. We will start with the hunger, a routine that will condition if the chicken wants to look for food. When the chicken is full, they are sated and walk slowly. Once they have digested the food, they will become more desperate and will run faster."
   ]
  },
  {
   "cell_type": "code",
   "execution_count": null,
   "metadata": {},
   "outputs": [],
   "source": [
    "def hunger(robot): \n",
    "    if robot.has_eaten():\n",
    "        robot.hunger_level = 0  # if the chicken has eaten a sphere, it is no longer hungry and moves slower\n",
    "        robot.max_speed = 6\n",
    "    else:\n",
    "        robot.hunger_level += 0.01  # otherwise (nothing eaten), it will get increasingly hungrier\n",
    "    \n",
    "    if robot.hunger_level > 0.7:\n",
    "        robot.max_speed = 10 # When the chicken gets hungry enough, they start running faster\n",
    "\n",
    "    robot.hunger_level = min(1., max(robot.hunger_level, 0.)) # We bound the hunger level between 0 and 1"
   ]
  },
  {
   "cell_type": "markdown",
   "metadata": {},
   "source": [
    "With the previous rutine defined, we can now implement a food chasing behaviour that will be influenced by how hungry the chicken is."
   ]
  },
  {
   "cell_type": "code",
   "execution_count": null,
   "metadata": {},
   "outputs": [],
   "source": [
    "def food_chasing(robot):\n",
    "    left, right = robot.prox_activations(tracked_objects=[\"Sphere\"])\n",
    "\n",
    "    return right, left, robot.hunger_level"
   ]
  },
  {
   "cell_type": "markdown",
   "metadata": {},
   "source": [
    "The chickens can now avoid obstacles, feel hunger and search for food if they are huhgry enough, but we still have to make them fear the wolf and run away from it, so we will implement the wolf avoidance behaviour."
   ]
  },
  {
   "cell_type": "code",
   "execution_count": null,
   "metadata": {},
   "outputs": [],
   "source": [
    "def wolf_avoidance(robot):\n",
    "    (left, right), (epuck_left, epuck_right) = robot.prox_activations(tracked_objects=[\"ePuck\"], return_epucks=True)\n",
    "    \n",
    "    # left_species, right_species = robot.sensed_epuck_attributes(epuck_left, epuck_right, \"species\", default_value =\"none\") # Retrieve the species attributes of the sensed epucks\n",
    "\n",
    "    # left_activation = left if left_species == \"wolf\" else 0\n",
    "    # right_activation = right if right_species == \"wolf\" else 0  # We avoid the epuck sensed if it's a wolf\n",
    "    \n",
    "    # At first the script avoided only wolves, but after further consideration the chickens will avoid all ePucks, not only wolves\n",
    "    # since they don't want to collide with eachoter and from a survival standpoint they want to spread so they are harder to catch and don't steal food from eachother\n",
    "    \n",
    "    return left, right"
   ]
  },
  {
   "cell_type": "markdown",
   "metadata": {},
   "source": [
    "We will add a final behaviour to the chickens to make them smarter. When they are not hungry, they will try to hide with the farmers (\"Bill\") so they can avoid the wolf instead of running around. Once they get hungry enough, they will no longer want to hide as they will have to risk going outside for food."
   ]
  },
  {
   "cell_type": "code",
   "execution_count": null,
   "metadata": {},
   "outputs": [],
   "source": [
    "def hiding(robot):\n",
    "    left, right = robot.prox_activations(tracked_objects=[\"Bill\"])\n",
    "\n",
    "    return right, left, 1 - robot.hunger_level # The less hungry, the more the chicken priorizes hiding themselves"
   ]
  },
  {
   "cell_type": "markdown",
   "metadata": {},
   "source": [
    "Once the chicken behaviours are defined, we will record the internal variables of the chickens in order to plot them later."
   ]
  },
  {
   "cell_type": "code",
   "execution_count": null,
   "metadata": {},
   "outputs": [],
   "source": [
    "def chicken_log(robot):\n",
    "    # Retrieve the values of the speed and hunger:\n",
    "    robot.add_log(\"speed\", robot.max_speed)\n",
    "    robot.add_log(\"hunger\", robot.hunger_level)"
   ]
  },
  {
   "cell_type": "markdown",
   "metadata": {},
   "source": [
    "Now we begin with programming the behaviors and rootines of the wolf. First we begin with the chicken hunting behavior. This behavior will be controlled by an internal state of the wolf which is his hunger level. We will first define this rootine in the cell below. "
   ]
  },
  {
   "cell_type": "code",
   "execution_count": null,
   "metadata": {},
   "outputs": [],
   "source": [
    "def wolf_hunger(robot):\n",
    "    left, right = robot.prox_activations(tracked_objects=[\"ePuck\"])\n",
    "    distance = (left + right)/2 \n",
    "    if distance > 0.8: \n",
    "        robot.hunger_level = 0 # if the robot has eaten a chicken, decrease its hunger level to 0\n",
    "    else:\n",
    "        robot.hunger_level += 0.2  # otherwise (nothing eaten), increase the hunger level by 0.2\n",
    "    # The line below bounds the value of the hunger level between 0 and 1\n",
    "    robot.hunger_level = min(1., max(robot.hunger_level, 0.))"
   ]
  },
  {
   "cell_type": "code",
   "execution_count": null,
   "metadata": {},
   "outputs": [],
   "source": [
    "def chicken_hunting(robot):\n",
    "    left, right = robot.prox_activations(tracked_objects=[\"ePuck\"])\n",
    "    left_wheel = right\n",
    "    right_wheel = left\n",
    "    \n",
    "    return left_wheel, right_wheel, robot.hunger_level * robot.energy_level "
   ]
  },
  {
   "cell_type": "markdown",
   "metadata": {},
   "source": [
    "When the wolf begins hunting for chickens, the behavior will be controlled by an internal state which we will call energy level. This energy level decreases over a certain period of time. It start with 1 and decreases by 0.2. "
   ]
  },
  {
   "cell_type": "code",
   "execution_count": null,
   "metadata": {},
   "outputs": [],
   "source": [
    "def energy_level(robot):\n",
    "    left, right = robot.prox_activations(tracked_objects=[\"ePuck\"])\n",
    "    if left or right > 0:\n",
    "        robot.energy_level -= 0.2\n",
    "    else: robot.energy_level = 1\n",
    "        \n",
    "    robot.energy_level = min(1., max(robot.energy_level, 0.))\n",
    "    "
   ]
  },
  {
   "cell_type": "markdown",
   "metadata": {},
   "source": [
    "Below is the code to implement a fear of the farmer (base of the chicken) behavior to the wolf. This behavior makes sure that the wolf stays away from the farmer because he is armed and dangerous. The behavior has a higher weight than the hunting behavior. "
   ]
  },
  {
   "cell_type": "code",
   "execution_count": null,
   "metadata": {},
   "outputs": [],
   "source": [
    "def fear_farmer(robot):\n",
    "    left, right = robot.prox_activations(tracked_objects=[\"Bill\"])\n",
    "\n",
    "    return left, right"
   ]
  },
  {
   "cell_type": "markdown",
   "metadata": {},
   "source": [
    "Once we have defined all the behaviours of the chickens and the wolf, we will assign them and let them interact with eachother."
   ]
  },
  {
   "cell_type": "code",
   "execution_count": null,
   "metadata": {},
   "outputs": [],
   "source": [
    "# We initialize internal variables, in order to establish the initial behaviours\n",
    "# when the simulation starts, and to make sure all code works\n",
    "\n",
    "epuck1.max_speed = 10 # Chicken are slower than the wolf\n",
    "epuck2.max_speed = 10 \n",
    "epuck3.max_speed = 12\n",
    "\n",
    "epuck1.hunger_level = 1 # The chickens will start the simulation hungry\n",
    "epuck2.hunger_level = 1\n",
    "epuck3.hunger_level = 1\n",
    "\n",
    "epuck3.energy_level = 1 # The wolf starts the simulation well rested"
   ]
  },
  {
   "cell_type": "code",
   "execution_count": null,
   "metadata": {},
   "outputs": [],
   "source": [
    "for e in simulator.robots:\n",
    "    e.detach_all_behaviors()\n",
    "    e.stop()\n",
    "    e.attach_behavior(obstacle_avoidance, freq=10) # All will use obstacle avoidance\n",
    "\n",
    "# Attaching behaviours and routines for the chickens\n",
    "epuck1.attach_routine(hunger, freq=1)\n",
    "epuck2.attach_routine(hunger, freq=1)\n",
    "epuck1.attach_routine(chicken_log, freq=1)\n",
    "epuck2.attach_routine(chicken_log, freq=1)\n",
    "epuck1.attach_behavior(food_chasing, freq=10)\n",
    "epuck2.attach_behavior(food_chasing, freq=10)\n",
    "epuck1.attach_behavior(wolf_avoidance, freq=10)\n",
    "epuck2.attach_behavior(wolf_avoidance, freq=10)\n",
    "epuck1.attach_behavior(hiding, freq=10)\n",
    "epuck2.attach_behavior(hiding, freq=10)\n",
    "\n",
    "# Attaching behaviours and routines for the wolf\n",
    "epuck3.attach_routine(wolf_hunger, freq=1)\n",
    "epuck3.attach_behavior(chicken_hunting, freq=10)\n",
    "epuck3.attach_behavior(fear_farmer, freq=10)\n",
    "\n",
    "# Begin the simulation\n",
    "for e in simulator.robots:\n",
    "    e.start_all_routines()\n",
    "    e.start_all_behaviors()"
   ]
  },
  {
   "cell_type": "markdown",
   "metadata": {},
   "source": [
    "Now that the simulation is running, we can plot the internal variables of the wolf and chickens. The following code will plot the hunger level over time of the chickens.\n",
    "\n",
    "Note: Please let the simulation run for a while so more data can be collected. Alternatively, execute the code multiple times over time to see how the graph changes according to the epuck state."
   ]
  },
  {
   "cell_type": "code",
   "execution_count": null,
   "metadata": {},
   "outputs": [],
   "source": [
    "%pylab inline\n",
    "\n",
    "# Plot the hunger levels recorded by the chickens\n",
    "plot(epuck1.get_log(\"hunger\"))\n",
    "plot(epuck2.get_log(\"hunger\"))\n",
    "legend([\"Chicken 1\", \"Chicken 2\"])\n",
    "\n",
    "xlabel(\"Time\")\n",
    "ylabel(\"Hunger level\")\n",
    "title(\"Plot of hunger level against time\")"
   ]
  },
  {
   "cell_type": "markdown",
   "metadata": {},
   "source": [
    "Next we will plot the speed of the chickens over time."
   ]
  },
  {
   "cell_type": "code",
   "execution_count": null,
   "metadata": {},
   "outputs": [],
   "source": [
    "%pylab inline\n",
    "\n",
    "# Plot the speed recorded by the chickens\n",
    "plot(epuck1.get_log(\"speed\"))\n",
    "plot(epuck2.get_log(\"speed\"))\n",
    "legend([\"Chicken 1\", \"Chicken 2\"])\n",
    "\n",
    "xlabel(\"Time\")\n",
    "ylabel(\"Speed\")\n",
    "title(\"Plot of speed against time\")"
   ]
  },
  {
   "cell_type": "markdown",
   "metadata": {},
   "source": [
    "To finish the simulation, execute the following line:"
   ]
  },
  {
   "cell_type": "code",
   "execution_count": null,
   "metadata": {},
   "outputs": [],
   "source": [
    "close_session(simulator)"
   ]
  },
  {
   "cell_type": "markdown",
   "metadata": {},
   "source": [
    "                                                    RESULTS\n",
    "\n",
    "As we presented in the introduction and coding section, the chickens and the wolf interact with each other and with the environment. Showing the cognitive model that simulates the behaviors and interactions between the chickens and the wolf in the real world, as our scene represents the farm Chicke's corral.\n",
    "\n",
    "Cognitive Models and Interactions\n",
    "\n",
    "Interaction with the Enviroment\n",
    "\n",
    "First, they avoid obstacles of the environment through the method prox_activations. This method retrieves the activation levels of epuck's proximity sensors with respect to tracked objects, specified as a list containing the strings the walls \"20cm\", \"tree\", \"cup\", and \"bump\".The method returns the activation levels of sensors corresponding to the specified tracked objects. \n",
    "\n",
    "The returned activation levels are then unpacked into two variables; left and right. These are the two proximity sensors, one on the left side and one on the right side, and the activation levels of these sensors are retrieved.\n",
    "\n",
    "Finally, the function computes and returns a tuple containing the obstacle avoidance outputs for the left and right sides of the robot. It does this by subtracting the activation levels from 1. This implies that the higher the activation level of a sensor, the closer an obstacle is. Subtracting from 1 inverts this relationship, so that higher values represent more open space. Therefore, 1 - right represents the avoidance level for obstacles on the right side, and 1 - left represents the avoidance level for obstacles on the left side. These values are then returned by the function. \n",
    "\n",
    "PICTURE 1 (avoiding collition)\n",
    "\n",
    "Chickens Cognitive Model \n",
    "\n",
    "Both chickens have the same behaviors between them and different interactions for the environment, the wolf, and Bill the farmer, in total five behavior are described to provide a cognitive model of the \"chicken\" simulation.\n",
    "\n",
    "The first behavior is the avoidance collection with the objects in the environment, explained above.\n",
    "\n",
    "Second, hunger. The function \"def hunger(robot)\" simulates hunger behavior of chikens, adjusting the chicken's speed and hunger level based on whether it has eaten and how hungry it is. The If statement checks if the robot has eaten. The condition robot.has_eaten() is a method call that returns True if the robot has eaten and False otherwise.\n",
    "\n",
    "If the chicken has eaten the balls that represents food (the condition is True), the chicken's hunger level is set to 0, indicating that it's not hungry anymore. Additionally, the maximum speed of the robot is set to 6 if the chicken hasn't eaten anything (False case of the if statement), the code inside the Else block is executed.\n",
    "\n",
    "The chicken's hunger level is incremented by 0.01. This means that if the chicken hasn't eaten anything, its hunger level will gradually increase. Additionally, if the hunger level of the robot exceeds 0.7, the maximum speed of the robot is set to 10. This suggests that when the robot gets hungry enough, it will start moving faster.\n",
    "\n",
    "Finally, the hunger level of the epuck is set between 0 and 1. This ensures that the hunger level doesn't exceed 1 or go below 0, preventing it from reaching unrealistic values.\n",
    "\n",
    "PLOTS (maybe)\n",
    "\n",
    "Third, the \"food chasing\" function allows the chickens to chase food represented by spheres using proximity sensors to detect their presence and proximity, while also providing information about the robot's hunger level for decision making purposes.\n",
    "\n",
    "The method prox_activations retrieves the activation levels of epuck's proximity sensors, specifically looking for spheres in its vicinity. The method returns the activation levels of the left and right sensors, and the variables left and right are then assigned the activation levels of the sensors on the left and right sides of epuck, respectively. \n",
    "\n",
    "The return right, left, robot.hunger_level function returns a tuple containing three values; right and left (the activation levels of the proximity sensors in both directions) and the hunger level of the chicken with the decision making process in chasing food.\n",
    "\n",
    "PICTURE 2 (chicken's eating) \n",
    "\n",
    "Four, wolf and chickens avoidance. This function allows the chickens to avoid colliding with and among themselves by using proximity sensors to detect the presence of the \"wolf\" and adjust their movement accordingly. The avoidance behavior helps ensure the survival and well-being of the chickens in the environment.\n",
    "\n",
    "Similar to the avoidance objects, the \"prox_activations\" method returns the activation levels of the puck's proximity sensors for \"wolf\" and \"chickens\" in its vicinity to avoid collisions and ensure the chickens survival.\n",
    "\n",
    "The returned values are unpacked into two tuples (left, right) containing the activation levels of the puck's proximity sensors in those directions on the left and right sides.\n",
    "\n",
    "Fifth, the \"Hide\" function allows the chickens to prioritize hiding when they are full of food and are slower by being attracted to the \"Bill\" object. It uses proximity sensors to detect its presence and adjusts its behavior based on its hunger level. The less hungry the chickens are, the more they prioritize hiding.\n",
    "\n",
    "Using the robot.prox_activations method, the epucks tracked \"Bill\", specifically looking for the object in its vicinity. Contrary to the avoidance behavior, the epuck's proximity sensors on the left and right side, and the hunger level, prioritize the chickens hiding themselves, calculated based on its hunger level. The hunger level is subtracted from 1, i.e. the less hungry the chickens are, the higher the priority of hiding over other behaviors.\n",
    "\n",
    "PICTURE 3 (chickens hiding)\n",
    "\n",
    "Wolf Cognitive Model\n",
    "\n",
    "The wolf cognitive model includes 4 behaviors that we will discuss next.\n",
    "\n",
    "The first behavior is the avoidance collection with the objects in the environment, explained above.\n",
    "\n",
    "Second behavoir, \"hunter\". The wolf hunter behavior function controls the hunger behavior of the epuck \"wolf\", adjusting its hunger level based on whether it has eaten a chicken or not, as determined by the proximity of epuck objects (chickens).\n",
    "\n",
    "The prox_activations method retrieves the activation levels of proximity sensors in epuck \"wolf\", specifically looking for epuck \"chickens\" in its vicinity. The returned values are assigned to the left and right variables, representing the activation levels of the robot's proximity sensors on the left and right sides, respectively. But this time the distance = (left + right)/2 calculates the average distance from the wolf robot to the nearest ePuck objects (chickens). If the distance is greater than 0.8, it means that the wolf robot has eaten a chicken. In this case, the wolf robot's hunger level is reduced to 0, indicating that it's no longer hungry. Otherwise, if the condition is not met (i.e. the distance is less than or equal to 0.8), the hunger level of the wolf robot increases by 0.2.\n",
    "\n",
    "The hunger level of the wolf robot is bounded between 0 and 1. It uses the min() and max() functions to ensure that the hunger level doesn't exceed 1 or go below 0, preventing it from reaching unrealistic values.\n",
    "\n",
    "PICTURE (Wolf eating a chicken)\n",
    "\n",
    "Third, the \"energy level\" function simulates the energy control behavior of hunting, adjusting it based on the proximity of epuck objects \"chickens\" detected by its proximity sensors. The energy level decreases over time because the wolf gets tired of chasing chickens. \n",
    "\n",
    "The method \"prox_activations\" retrieves the activation levels of the proximity sensors, specifically looking for epuck objects \"chickens\". The activation levels are assigned to variables left and right of the proximity sensors.\n",
    "\n",
    "If either left or right is greater than 0, it means that the \"wolf\" is close to an epuck \"chicken\". In this case the energy level of the robot is reduced by 0.2.  This behavior simulates the energy expenditure of the robot when it encounters the epuck \"chickens\". Conversely, if the condition is not met (i.e. both left and right are 0, indicating that there are no epuck objects nearby), the energy level of the \"wolf\" is set to 1, indicating that the robot does not expend energy when there are no epuck \"chickens\" nearby.\n",
    "\n",
    "The energy level of the robot is bounded between 0 and 1, using the min() and max() functions to ensure that the energy level doesn't exceed 1 or go below 0, preventing it from reaching unrealistic values.\n",
    "\n",
    "Four, fear behavior. The \"Fear Farmer\" function allows the epuck \"Wolf\" to sense the presence of an object named \"Bill\" using its proximity sensors, and it returns the activation levels of these sensors for further decision making or control within the simulated environment.\n",
    "\n",
    "As we have already seen, the prox_activations method activates the levels of the proximity sensors specifically for \"Bill\" in its vicinity. The left and right sensors of the \"wolf\" epuck, respectively, indicate the presence and proximity of objects \"Bill\" in those directions and its avoidance.\n",
    "\n",
    "Chickens and Wolf Interaction \n",
    "\n",
    "First, the speed of \"chicken\" and \"wolf\" is set to simulate real life in nature, where \"chicken\" is slower than \"wolf\". The \"chicken\" has a maximum speed of 10, while the \"wolf\" has a speed of 12. The three epucks start with the same speed of 1. Also, as we discussed in the section above, each cognitive model of \"wolf\" and \"chickens\" has its own speed control behavior related to hunger and/or energy level.\n",
    "\n",
    "Then, to set up the behavior and interaction between the multiple epucks and simulate the behavior of \"wolf\" and \"chickens\", it was necessary to configure their routines behavior according to their roles.\n",
    "\n",
    "The chicken's routines are attached with a frequency of 1, which means that they are executed in every simulation step. The behaviors such as \"chasing food\", \"wolf avoidance\" and \"hiding\" are attached with a frequency of 10, meaning they will be executed every 10 simulation steps.\n",
    "\n",
    "Meanwhile, the \"wolf\" routines for \"hunger\" are attached with a frequency of 1, meaning they will be executed every simulation step. And the \"chicken hunt\" and \"fear farmer\" behaviors are attached with a frequency of 10, meaning they will be executed every 10 simulation steps.\n",
    "\n",
    "In conclusion, we can say that each of the three epuck robots simulates an animal role with a cognitive model according to \"chicken\" and \"wolf\". Each role has its own behaviors determined by some internal control variables and/or its interaction with the environment and among each other. As in real life in \"nature\", animals perceive their enviroment with their bodies through stimuli (in our case through sensors) and act according to these feelings (fear, attraction, avoidance, chaining, hunting, etc.) and their own internal needs like hunger. But also animal bodies have some control behavior determined by its body structures (that in our case are determined by the code and simulating nature) that includes the speed and energy level (by tiring or hungry) that we concired in our project.\n",
    "\n",
    "In the following section we will discuss the implications of this model and the related bibliography.\n",
    "\n"
   ]
  },
  {
   "cell_type": "markdown",
   "metadata": {},
   "source": [
    "                                                DISCUSSION\n"
   ]
  }
 ],
 "metadata": {
  "kernelspec": {
   "display_name": "Python 3 (ipykernel)",
   "language": "python",
   "name": "python3"
  },
  "language_info": {
   "codemirror_mode": {
    "name": "ipython",
    "version": 3
   },
   "file_extension": ".py",
   "mimetype": "text/x-python",
   "name": "python",
   "nbconvert_exporter": "python",
   "pygments_lexer": "ipython3",
   "version": "3.11.5"
  }
 },
 "nbformat": 4,
 "nbformat_minor": 1
}
